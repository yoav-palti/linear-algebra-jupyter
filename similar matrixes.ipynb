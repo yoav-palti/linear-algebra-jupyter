{
 "cells": [
  {
   "cell_type": "code",
   "execution_count": 3,
   "id": "40354b9a",
   "metadata": {
    "scrolled": false,
    "tags": [
     "hide-input"
    ]
   },
   "outputs": [
    {
     "data": {
      "text/html": [
       "<style type='text/css'>\n",
       "div.text_cell_render{\n",
       "    font-family: \"David\";\n",
       "    direction:rtl;\n",
       "    width:90%;\n",
       "    text-align:right;\n",
       "}\n",
       ".rendered_html {\n",
       "    p{text-align: right;}\n",
       "}\n",
       "</style>\n",
       "<script src=\"https://cdn.geogebra.org/apps/deployggb.js\"></script>\n"
      ],
      "text/plain": [
       "<IPython.core.display.HTML object>"
      ]
     },
     "metadata": {},
     "output_type": "display_data"
    }
   ],
   "source": [
    "%%html\n",
    "<style type='text/css'>\n",
    "div.text_cell_render{\n",
    "    font-family: \"David\";\n",
    "    direction:rtl;\n",
    "    width:90%;\n",
    "    text-align:right;\n",
    "}\n",
    ".rendered_html {\n",
    "    p{text-align: right;}\n",
    "}\n",
    "</style>\n",
    "<script src=\"https://cdn.geogebra.org/apps/deployggb.js\"></script>"
   ]
  },
  {
   "cell_type": "code",
   "execution_count": 51,
   "id": "b48ba33f",
   "metadata": {},
   "outputs": [],
   "source": [
    "import numpy as np\n",
    "import matplotlib.pyplot as plt\n",
    "from IPython.core.display import display, HTML\n",
    "from IPython.display import IFrame\n",
    "GEOGEBRA_IFRAME_URL_PARAMS = 'border/888888/sfsb/true/smb/false/stb/false/stbh/false/ai/false/asb/false/sri/false/rc/false/ld/false/sdz/false/ctl/false'\n",
    "GEOGEBRA_IFRAME_URL = 'https://www.geogebra.org/material/iframe/id'"
   ]
  },
  {
   "cell_type": "markdown",
   "id": "0bbddda3",
   "metadata": {},
   "source": [
    "# מטריצות דומות"
   ]
  },
  {
   "cell_type": "markdown",
   "id": "2ae8395b",
   "metadata": {},
   "source": [
    "מטריצות דומות הוא קונספט חשוב באלגברה לינארית. בבסיס שלו יושב הקונספט של מעבר בסיס. נתחיל מההגדרה:\n",
    "\n",
    "מטריצה $A$ תיקרא דומה למטריצה $B$ אם קיימת מטריצה הפיכה $P$ כך ש:\n",
    "$$B=P^{-1}AP$$\n",
    "כמובן שניתן מייד לרשום ש:\n",
    "$$PBP^{-1}=A$$\n",
    "ובגלל שגם $P^{-1}$ היא הפיכה ניתן לומר שגם $A$ דומה ל-$B$ \n",
    "\n",
    "נסמן:\n",
    "$$A\\sim B$$\n",
    "\n",
    "למה דווקא ההגדרה הזו? בו ננסה להבין מה הופך שתי מטריצות לדומות נתחיל מלהיזכר במטריצת מעבר בסיס"
   ]
  },
  {
   "cell_type": "markdown",
   "id": "036c5615",
   "metadata": {},
   "source": [
    "# מעבר בסיס"
   ]
  },
  {
   "cell_type": "markdown",
   "id": "a9a8fb28",
   "metadata": {},
   "source": [
    "נגדיר שני בסיסים $\\mathcal{C}$ ו-$\\mathcal{B}$ אשר הוקטורים שלהם בהתאמה הם: $\\left\\{ \\vec{c}_{n}\\right\\} _{n=1}^{N}$ ו-$\\left\\{ \\vec{b}_{n}\\right\\} _{n=1}^{N}$\n",
    "\n",
    "איך אמורה להיראות מטריצת מעבר הבסיס? מה בכלל הי מייצגת. התשובה היא קודם כל שהיא ממירה בין יצוגים שונים של אותו הוקטור אך בבסיסים שונים\n",
    "\n",
    "את אותו הוקטור $\\vec{\\text{v}}$ בשתי דרכים שונות:\n",
    "\n",
    "$$\n",
    "\\vec{\\text{v}}=\\sum_{\\text{n=1}}^{N}\\left[v\\right]_{\\mathcal{B}}\\vec{b}_{n}=\\sum_{\\text{n=1}}^{N}\\left[v\\right]_{\\mathcal{C}}\\vec{c}_{n}\n",
    "$$\n",
    "\n",
    "למה הדבר דומה? לשתי מערכות צירים $\\mathcal{B}=\\left\\{ \\hat{x},\\hat{y}\\right\\} ,\\mathcal{C}=\\left\\{ \\hat{u},\\hat{w}\\right\\} $\n",
    "ואת הוקטור $\\vec{\\text{v}}$ אפשר לייצג בכל אחת מהן על ידי שני מספרים כמו באילוסטרציה הבאה:"
   ]
  },
  {
   "cell_type": "code",
   "execution_count": 54,
   "id": "2a5583a3",
   "metadata": {},
   "outputs": [
    {
     "data": {
      "text/html": [
       "\n",
       "        <iframe\n",
       "            width=\"90%\"\n",
       "            height=\"400\"\n",
       "            src=\"https://www.geogebra.org/material/iframe/id/pusjze6a/height/800/border/888888/sfsb/true/smb/false/stb/false/stbh/false/ai/false/asb/false/sri/false/rc/false/ld/false/sdz/false/ctl/false\"\n",
       "            frameborder=\"0\"\n",
       "            allowfullscreen\n",
       "            \n",
       "        ></iframe>\n",
       "        "
      ],
      "text/plain": [
       "<IPython.lib.display.IFrame at 0x24a86287bb0>"
      ]
     },
     "execution_count": 54,
     "metadata": {},
     "output_type": "execute_result"
    }
   ],
   "source": [
    "IFrame(f\"{GEOGEBRA_IFRAME_URL}/pusjze6a/height/800/{GEOGEBRA_IFRAME_URL_PARAMS}\", width=\"90%\", height=400)"
   ]
  }
 ],
 "metadata": {
  "kernelspec": {
   "display_name": "Python 3 (ipykernel)",
   "language": "python",
   "name": "python3"
  },
  "language_info": {
   "codemirror_mode": {
    "name": "ipython",
    "version": 3
   },
   "file_extension": ".py",
   "mimetype": "text/x-python",
   "name": "python",
   "nbconvert_exporter": "python",
   "pygments_lexer": "ipython3",
   "version": "3.9.7"
  }
 },
 "nbformat": 4,
 "nbformat_minor": 5
}
