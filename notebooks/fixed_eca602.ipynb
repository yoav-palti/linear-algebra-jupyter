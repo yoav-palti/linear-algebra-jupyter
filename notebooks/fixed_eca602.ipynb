{
 "cells": [
  {
   "cell_type": "markdown",
   "id": "4cbe9e76-4f55-49d7-9a04-3b3f0233fe34",
   "metadata": {
    "deletable": false,
    "editable": false
   },
   "source": [
    "# Simulação - Malha de controle com controlador PID\n",
    "\n",
    "## UNIFEI - Universidade Federal de Itajubá\n",
    "\n",
    "### Prof. Fernando H. D. Guaracy\n",
    "### ECA602 - 2º Semestre de 2020 - RTE"
   ]
  },
  {
   "cell_type": "code",
   "execution_count": 7,
   "id": "978850f3-f21e-4ca3-b4f0-9aa054025401",
   "metadata": {},
   "outputs": [],
   "source": [
    "%matplotlib inline\n",
    "from ipywidgets import interactive\n",
    "import ipywidgets as widgets\n",
    "import matplotlib.pyplot as plt\n",
    "import numpy as np\n",
    "from scipy.integrate import odeint\n",
    "from pylab import rcParams\n",
    "rcParams['figure.figsize'] = 16, 9"
   ]
  },
  {
   "cell_type": "code",
   "execution_count": 8,
   "id": "0218df00-71ea-4e27-b067-89a7ae0768be",
   "metadata": {
    "deletable": false,
    "editable": false,
    "hide_input": false
   },
   "outputs": [],
   "source": [
    "#Configurações da simulação\n",
    "\n",
    "ti = 0.001 #Passo de simulação\n",
    "\n",
    "x0 = 0 #Valor inicial\n",
    "sp = 1 #Setpoint"
   ]
  },
  {
   "cell_type": "code",
   "execution_count": 9,
   "id": "d607e203-9452-4981-89a0-b84e77f483f9",
   "metadata": {
    "deletable": false,
    "editable": false,
    "hide_input": false
   },
   "outputs": [],
   "source": [
    "#Modelo do sistema\n",
    "def modelo(x, t): \n",
    "  global u    \n",
    "\n",
    "  x1,x2,x3 = x\n",
    "  dxdt = [x2,x3,-x1-3*x2-3*x3+u]\n",
    "      \n",
    "  return dxdt"
   ]
  },
  {
   "cell_type": "markdown",
   "id": "9018e57e-16ba-4c5d-8850-c25d2632a074",
   "metadata": {
    "deletable": false,
    "editable": false
   },
   "source": [
    "\n",
    "\n",
    "\n",
    "\n",
    "### Resposta do sistema ao degrau unitário em malha aberta"
   ]
  },
  {
   "cell_type": "code",
   "execution_count": 10,
   "id": "7a577ccb-91f2-40ca-95da-54a07c1eebe2",
   "metadata": {
    "deletable": false,
    "editable": false,
    "scrolled": true
   },
   "outputs": [
    {
     "data": {
      "image/png": "[encoded data removed]",
      "text/plain": [
       "<Figure size 1152x648 with 1 Axes>"
      ]
     },
     "metadata": {
      "needs_background": "light"
     },
     "output_type": "display_data"
    }
   ],
   "source": [
    "vet_t = []\n",
    "vet_u = []\n",
    "vet_y = []\n",
    "    \n",
    "xz = [[x0, 0, 0],[x0, 0, 0]]\n",
    "    \n",
    " \n",
    "#Loop de simulação\n",
    "for i in range(0,20000,1):\n",
    "    \n",
    "  u = 1 \n",
    "\n",
    "  #----Solução da EDO-------  \n",
    "  xz = odeint(modelo, xz[1][:], [0,ti])  \n",
    "\n",
    "  #----Armazenamento de dados----\n",
    "  vet_t.append(i*ti)\n",
    "  vet_u.append(u)\n",
    "  vet_y.append(xz[1][0])      \n",
    "\n",
    "    #Gera figuras (estáticas)   \n",
    "plt.plot(vet_t,(np.ones(len(vet_t))),'k')\n",
    "plt.plot(vet_t, vet_y)\n",
    "plt.ylabel('Amplitude')\n",
    "plt.xlabel('Tempo [s]')\n",
    "plt.legend(['Entrada','Saída'])\n",
    "plt.ylim(top=1.2)\n",
    "plt.ylim(bottom=-0.2)\n",
    "plt.grid(True)"
   ]
  },
  {
   "cell_type": "markdown",
   "id": "56cf2d13-1010-4226-b036-04f7e8a2c3e3",
   "metadata": {},
   "source": [
    "### Resposta do sistema a uma referência degrau unitário com o controlador PID em malha fechada"
   ]
  },
  {
   "cell_type": "code",
   "execution_count": 11,
   "id": "4e8bd406-3b49-4b5d-842d-12ed18bc0673",
   "metadata": {
    "hide_input": false
   },
   "outputs": [],
   "source": [
    "#Simulação\n",
    "def simulacao(Kp,Ki,Kd):\n",
    "#Parâmetros do controlador  \n",
    "\n",
    "    #Inicialização de variáveis\n",
    "    global u, vet_t, vet_u, vet_y    \n",
    "    \n",
    "    vet_t = []\n",
    "    vet_u = []\n",
    "    vet_y = []\n",
    "\n",
    "    c0 = Kp + ti/2*Ki + Kd/ti \n",
    "    c1 = -Kp + ti/2*Ki - 2*Kd/ti    \n",
    "    c2 = Kd/ti\n",
    "    \n",
    "    u = 0\n",
    "    u_1 = 0\n",
    "    e = 0\n",
    "    e_1 = 0\n",
    "    e_2 = 0\n",
    "    xz = [[x0, 0, 0],[x0, 0, 0]]\n",
    "    \n",
    "    #Loop de simulação\n",
    "    for i in range(0,20000,1):\n",
    "      \n",
    "      #----Lei de controle------           \n",
    "      e = (sp - xz[1][0])      \n",
    "        \n",
    "      u = u_1 + c0*e + c1*e_1 + c2*e_2\n",
    "        \n",
    "      u_1 = u\n",
    "      e_2 = e_1\n",
    "      e_1 = e\n",
    "      #-Fim da lei de controle----\n",
    "\n",
    "      #----Solução da EDO-------  \n",
    "      xz = odeint(modelo, xz[1][:], [0,ti])  \n",
    "\n",
    "      #----Armazenamento de dados----\n",
    "      vet_t.append(i*ti)\n",
    "      vet_u.append(u)\n",
    "      vet_y.append(xz[1][0])      \n",
    "\n",
    "    #Gera figuras (estáticas)   \n",
    "    plt.plot(vet_t,(np.ones(len(vet_t))),'k')\n",
    "    plt.plot(vet_t, vet_y)\n",
    "    plt.legend(['Referência','Saída'])\n",
    "    plt.ylabel('Amplitude')\n",
    "    plt.xlabel('Tempo [s]')\n",
    "    plt.grid(True)\n",
    "    plt.show()\n",
    "    "
   ]
  },
  {
   "cell_type": "code",
   "execution_count": 12,
   "id": "565bb3ad-5838-43fc-9d6a-f675bd9a05f1",
   "metadata": {},
   "outputs": [
    {
     "data": {
      "application/vnd.jupyter.widget-view+json": {
       "model_id": "ca3c60edf38e417396223ebac92e50ac",
       "version_major": 2,
       "version_minor": 0
      },
      "text/plain": [
       "interactive(children=(FloatText(value=2.0, description='Kp', step=0.1), FloatText(value=0.0, description='Ki',…"
      ]
     },
     "metadata": {},
     "output_type": "display_data"
    }
   ],
   "source": [
    "Kp_widget=widgets.FloatText(value=2,step=0.1)\n",
    "Ki_widget=widgets.FloatText(value=0,step=0.1)\n",
    "Kd_widget=widgets.FloatText(value=0,step=0.1)\n",
    "\n",
    "#interact(simulacao,Kp=Kp_widget,Ki=Ki_widget,Kd=Kd_widget,continuous_update=False);\n",
    "\n",
    "interactive_plot = interactive(simulacao,Kp=Kp_widget,Ki=Ki_widget,Kd=Kd_widget,continuous_update=False)\n",
    "#output = interactive_plot.children[-1]\n",
    "#output.layout.height = '450px'\n",
    "interactive_plot"
   ]
  }
 ],
 "metadata": {
  "kernelspec": {
   "display_name": "Python 3 (ipykernel)",
   "language": "python",
   "name": "python3"
  },
  "language_info": {
   "codemirror_mode": {
    "name": "ipython",
    "version": 3
   },
   "file_extension": ".py",
   "mimetype": "text/x-python",
   "name": "python",
   "nbconvert_exporter": "python",
   "pygments_lexer": "ipython3",
   "version": "3.7.10"
  }
 },
 "nbformat": 4,
 "nbformat_minor": 5
}
