{
 "cells": [
  {
   "cell_type": "code",
   "execution_count": 1,
   "id": "40354b9a",
   "metadata": {
    "scrolled": false,
    "tags": [
     "hide-input"
    ]
   },
   "outputs": [
    {
     "data": {
      "text/html": [
       "<style type='text/css'>\n",
       "div.text_cell_render{\n",
       "    font-family: \"David\";\n",
       "    direction:rtl;\n",
       "    width:90%;\n",
       "    text-align:right;\n",
       "}\n",
       ".rendered_html {\n",
       "    p{text-align: right;}\n",
       "}\n",
       ".jp-MarkdownCell .jp-RenderedHTMLCommon {\n",
       "    font-family: David;\n",
       "    direction:rtl;\n",
       "    width:90%;\n",
       "    text-align:right;\n",
       "}\n",
       ".jp-RenderedHTMLCommon p{\n",
       "    text-align:right;\n",
       "}\n",
       "</style>\n",
       "<script src=\"https://cdn.geogebra.org/apps/deployggb.js\"></script>\n"
      ],
      "text/plain": [
       "<IPython.core.display.HTML object>"
      ]
     },
     "metadata": {},
     "output_type": "display_data"
    }
   ],
   "source": [
    "%%html\n",
    "<style type='text/css'>\n",
    "div.text_cell_render{\n",
    "    font-family: \"David\";\n",
    "    direction:rtl;\n",
    "    width:90%;\n",
    "    text-align:right;\n",
    "}\n",
    ".rendered_html {\n",
    "    p{text-align: right;}\n",
    "}\n",
    ".jp-MarkdownCell .jp-RenderedHTMLCommon {\n",
    "    font-family: David;\n",
    "    direction:rtl;\n",
    "    width:90%;\n",
    "    text-align:right;\n",
    "}\n",
    ".jp-RenderedHTMLCommon p{\n",
    "    text-align:right;\n",
    "}\n",
    "</style>\n",
    "<script src=\"https://cdn.geogebra.org/apps/deployggb.js\"></script>"
   ]
  },
  {
   "cell_type": "code",
   "execution_count": 2,
   "id": "b48ba33f",
   "metadata": {},
   "outputs": [],
   "source": [
    "import numpy as np\n",
    "import matplotlib.pyplot as plt\n",
    "from IPython.core.display import display, HTML\n",
    "from IPython.display import IFrame\n",
    "GEOGEBRA_IFRAME_URL_PARAMS = 'border/888888/sfsb/true/smb/false/stb/false/stbh/false/ai/false/asb/false/sri/false/rc/false/ld/false/sdz/false/ctl/false'\n",
    "GEOGEBRA_IFRAME_URL = 'https://www.geogebra.org/material/iframe/id'"
   ]
  },
  {
   "cell_type": "markdown",
   "id": "0bbddda3",
   "metadata": {},
   "source": [
    "# מטריצות דומות"
   ]
  },
  {
   "cell_type": "markdown",
   "id": "2ae8395b",
   "metadata": {},
   "source": [
    "מטריצות דומות הוא קונספט חשוב באלגברה לינארית. בבסיס שלו יושב הקונספט של מעבר בסיס. נתחיל מההגדרה:\n",
    "\n",
    "מטריצה $A$ תיקרא דומה למטריצה $B$ אם קיימת מטריצה הפיכה $P$ כך ש:\n",
    "$$B=P^{-1}AP$$\n",
    "כמובן שניתן מייד לרשום ש:\n",
    "$$PBP^{-1}=A$$\n",
    "ובגלל שגם $P^{-1}$ היא הפיכה ניתן לומר שגם $A$ דומה ל-$B$ \n",
    "\n",
    "נסמן:\n",
    "$$A\\sim B$$\n",
    "\n",
    "למה דווקא ההגדרה הזו? בו ננסה להבין מה הופך שתי מטריצות לדומות נתחיל מלהיזכר במטריצת מעבר בסיס"
   ]
  },
  {
   "cell_type": "markdown",
   "id": "036c5615",
   "metadata": {},
   "source": [
    "# מעבר בסיס"
   ]
  },
  {
   "cell_type": "markdown",
   "id": "a9a8fb28",
   "metadata": {},
   "source": [
    "נגדיר שני בסיסים $\\mathcal{C}$ ו-$\\mathcal{B}$ אשר הוקטורים שלהם בהתאמה הם: $\\left\\{ \\vec{c}_{n}\\right\\} _{n=1}^{N}$ ו-$\\left\\{ \\vec{b}_{n}\\right\\} _{n=1}^{N}$\n",
    "\n",
    "איך אמורה להיראות מטריצת מעבר הבסיס? מה בכלל היא מייצגת? התשובה היא קודם כל שהיא ממירה בין יצוגים שונים של אותו הוקטור אך בבסיסים שונים\n",
    "\n",
    "את אותו הוקטור $\\vec{\\text{v}}$ בשתי דרכים שונות:\n",
    "\n",
    "$$\n",
    "\\vec{\\text{v}}=\\sum_{\\text{n=1}}^{N}\\left[v\\right]_{\\mathcal{B}}\\vec{b}_{n}=\\sum_{\\text{n=1}}^{N}\\left[v\\right]_{\\mathcal{C}}\\vec{c}_{n}\n",
    "$$\n",
    "\n",
    "כאשר $\\left[v\\right]_{\\mathcal{C}}$ ו-$\\left[v\\right]_{\\mathcal{B}}$ הם פשוט שתי רשימות מספרים כלומר וקטורי עמודה בגודל $N$\n",
    "\n",
    "למה הדבר דומה? (או בעצם זהה) לשתי מערכות צירים $\\mathcal{B}=\\left\\{ \\hat{x},\\hat{y}\\right\\} ,\\mathcal{C}=\\left\\{ \\hat{u},\\hat{w}\\right\\} $\n",
    "\n",
    "את הוקטור $\\vec{\\text{v}}$ אפשר לייצג בכל אחת מהן על ידי שני מספרים כמו באילוסטרציה הבאה:"
   ]
  },
  {
   "cell_type": "code",
   "execution_count": 3,
   "id": "2a5583a3",
   "metadata": {},
   "outputs": [
    {
     "data": {
      "text/html": [
       "\n",
       "        <iframe\n",
       "            width=\"90%\"\n",
       "            height=\"400\"\n",
       "            src=\"https://www.geogebra.org/material/iframe/id/pusjze6a/height/800/border/888888/sfsb/true/smb/false/stb/false/stbh/false/ai/false/asb/false/sri/false/rc/false/ld/false/sdz/false/ctl/false\"\n",
       "            frameborder=\"0\"\n",
       "            allowfullscreen\n",
       "            \n",
       "        ></iframe>\n",
       "        "
      ],
      "text/plain": [
       "<IPython.lib.display.IFrame at 0x1ba5fc33580>"
      ]
     },
     "execution_count": 3,
     "metadata": {},
     "output_type": "execute_result"
    }
   ],
   "source": [
    "IFrame(f\"{GEOGEBRA_IFRAME_URL}/pusjze6a/height/800/{GEOGEBRA_IFRAME_URL_PARAMS}\", width=\"90%\", height=400)"
   ]
  },
  {
   "cell_type": "markdown",
   "id": "3b4bcb2f",
   "metadata": {},
   "source": [
    "מה הקשר בין שתי רשימות המספרים האלו? כלומר מה הקשר בין שני הייצוגים של $\\vec{\\text{v}}$ בשתי מערכות הצירים השונות\n",
    "\n",
    "נתחיל מהדוגמא בה אנחנו בשני מימדים. נניח שאנחנו יודעים את היצוג של הוקטור $\\vec{\\text{v}}$ במערכת הצירים $\\mathcal{B}=\\left\\{ \\hat{x},\\hat{y}\\right\\} $ ורוצים לדעת את היצוג במערכת הצירים $\\mathcal{C}=\\left\\{ \\hat{u},\\hat{w}\\right\\}$\n",
    "\n",
    "אך אנו יודעים את הקשר בין $\\left\\{ \\hat{u},\\hat{w}\\right\\}$ לבין $\\left\\{ \\hat{x},\\hat{y}\\right\\}$\n",
    "\n",
    "$$\n",
    "\\hat{x}=P_{xu}\\hat{u}+P_{xw}\\hat{w}\n",
    "$$\n",
    "$$\n",
    "\\hat{y}=P_{yu}\\hat{u}+P_{yw}\\hat{w}\n",
    "$$\n",
    "לפי איך שהגדרנו את הקורדינטות של הוקטור אנחנו יכולים לרשום $\\left[v\\right]_{\\mathcal{B}}=\\begin{pmatrix}v_{x}\\\\\n",
    "v_{y}\n",
    "\\end{pmatrix}$:\n",
    "$$\n",
    "\\vec{\\text{v}}=\\sum_{\\text{n=1}}^{N}\\left[v\\right]_{\\mathcal{B}}\\vec{b}_{n}=v_{x}\\hat{x}+v_{y}\\hat{y}\n",
    "$$\n",
    "כעת אנו יכולים להשתמש ביצוג של $\\hat{x}$ ושל- $\\hat{y}$ ולהחליף אותם:\n",
    "$$\n",
    "=v_{x}\\left(P_{xu}\\hat{u}+P_{xw}\\hat{w}\\right)+v_{y}\\left(P_{yu}\\hat{u}+P_{yw}\\hat{w}\\right)\n",
    "$$\n",
    "$$\n",
    "=\\left(v_{x}P_{xu}+v_{y}P_{yu}\\right)\\hat{u}+\\left(v_{x}P_{xw}+v_{y}P_{yw}\\right)\\hat{w}\n",
    "$$\n",
    "$$\n",
    "\\Downarrow\n",
    "$$\n",
    "$$\n",
    "v_{u}=v_{x}P_{xu}+v_{y}P_{yu}\n",
    "$$\n",
    "$$\n",
    "v_{w}=v_{x}P_{xw}+v_{y}P_{yw}\n",
    "$$\n",
    "$$\n",
    "\\Downarrow\n",
    "$$\n",
    "$$\n",
    "\\begin{pmatrix}v_{u}\\\\\n",
    "v_{w}\n",
    "\\end{pmatrix}=\\begin{pmatrix}P_{xu} & P_{yu}\\\\\n",
    "P_{xw} & P_{yw}\n",
    "\\end{pmatrix}\\begin{pmatrix}v_{x}\\\\\n",
    "v_{y}\n",
    "\\end{pmatrix}\n",
    "$$\n",
    "מה בעצם עשינו? כדי לעבור בין היצוג בבסיס $\\mathcal{B}$ שהוא $\\left[v\\right]_{\\mathcal{B}}$ לבין יצוג בבסיס $\\mathcal{C}$ שהוא $\\left[v\\right]_{\\mathcal{C}}$ לקחנו כל וקטור בבסיס $\\mathcal{B}$ וייצגנו אותו בעזרת הבסיס  $\\mathcal{C}$. ניתן לרשום את זה ככה:\n",
    "\n",
    "$$\n",
    "\\vec{b}_{n}=\\sum_{\\text{k=1}}^{N}\\left[\\vec{b}_{n}\\right]_{\\mathcal{C},k}\\vec{c}_{k}\n",
    "$$\n",
    "ואפשר לסמן:\n",
    "$$\n",
    "\\left[\\vec{b}_{n}\\right]_{\\mathcal{C}}=\\begin{pmatrix}P_{1n}\\\\\n",
    "P_{2n}\\\\\n",
    "\\vdots\\\\\n",
    "P_{3n}\n",
    "\\end{pmatrix}\n",
    "$$ "
   ]
  },
  {
   "cell_type": "markdown",
   "id": "3585cba0",
   "metadata": {},
   "source": [
    "## יצוג חסר בסיס ויצוג בבסיס"
   ]
  },
  {
   "cell_type": "markdown",
   "id": "11cb8e2d",
   "metadata": {},
   "source": [
    "הנקודה העיקרית היא להבדיל בין יצוגים בבסיס לייצוגים חסרי בסיס. הייצוג $\\vec{\\text{v}}=\\sum_{\\text{n=1}}^{N}\\left[v\\right]_{\\mathcal{B},n}\\vec{b}_{n}$ הוא חסר בסיס בעוד היצוג $\\left[v\\right]_{\\mathcal{B}}$ הוא עם בסיס מוגדר למה אנחנו אומרים את זה. משום שהייצוג הראשון פשוט מציג את העובדה שהוקטור $\\vec{\\text{v}}$ נמצא ב $Span$ של    הבסיס ואילו השני מצמיד לוקטור רשמית מספרים שהם הקורדינטות שלו\n",
    "\n",
    "אם לוקחים וקטור בסיס ומסתכלים עליו בייצוג של הבסיס עצמו נקבל וקטור יחידה לדוגמא:\n",
    "$$\n",
    "\\left[\\vec{b}_{1}\\right]_{\\mathcal{B}}=\\begin{pmatrix}1\\\\\n",
    "0\\\\\n",
    "\\vdots\\\\\n",
    "0\n",
    "\\end{pmatrix}\n",
    "$$\n",
    "ובאופן טריוויאלי ניתן לקחת את הביטוי חסר הבסיס $\\vec{\\text{v}}=\\sum_{\\text{n=1}}^{N}\\left[v\\right]_{\\mathcal{B},n}\\vec{b}_{n}$ ולרשום את כולו בבסיס $\\mathcal{B}$ נקבל:\n",
    "$$\n",
    "\\left[\\vec{v}\\right]_{\\mathcal{B}}=\\sum_{\\text{n=1}}^{N}\\left[v\\right]_{\\mathcal{B},n}\\left[\\vec{b}_{n}\\right]_{\\mathcal{B}}=\\sum_{\\text{n=1}}^{N}\\left[v\\right]_{\\mathcal{B},n}\\begin{pmatrix}0\\\\\n",
    "\\vdots\\\\\n",
    "1\\\\\n",
    "\\vdots\\\\\n",
    "0\n",
    "\\end{pmatrix}=\\begin{pmatrix}\\left[v\\right]_{\\mathcal{B},1}\\\\\n",
    "\\vdots\\\\\n",
    "\\left[v\\right]_{\\mathcal{B},n}\\\\\n",
    "\\vdots\\\\\n",
    "\\left[v\\right]_{\\mathcal{B},N}\n",
    "\\end{pmatrix}\n",
    "$$\n",
    "לדוגמא בדו מימד זה נראה ככה:\n",
    "$$\n",
    "\\left[\\vec{v}\\right]_{\\mathcal{B}}=\\left[v\\right]_{\\mathcal{B},1}\\begin{pmatrix}1\\\\\n",
    "0\n",
    "\\end{pmatrix}+\\left[v\\right]_{\\mathcal{B},2}\\begin{pmatrix}0\\\\\n",
    "1\n",
    "\\end{pmatrix}=\\begin{pmatrix}\\left[v\\right]_{\\mathcal{B},1}\\\\\n",
    "\\left[v\\right]_{\\mathcal{B},2}\n",
    "\\end{pmatrix}\n",
    "$$\n",
    "אבל למה להסתפק לרשום את הביטוי הזה בבסיס $\\mathcal{B}$ ניתן לרשום את כולו בבסיס $\\mathcal{C}$. נזכיר רק סימון ממקודם $\\left[\\vec{b}_{n}\\right]_{\\mathcal{C}}=\\begin{pmatrix}P_{1n}\\\\\n",
    "P_{2n}\\\\\n",
    "\\vdots\\\\\n",
    "P_{3n}\n",
    "\\end{pmatrix}$ ונקבל:\n",
    "$$\n",
    "\\left[\\vec{v}\\right]_{\\mathcal{C}}=\\sum_{\\text{n=1}}^{N}\\left[v\\right]_{\\mathcal{B},n}\\left[\\vec{b}_{n}\\right]_{\\mathcal{C}}=\\sum_{\\text{n=1}}^{N}\\left[v\\right]_{\\mathcal{B},n}\\begin{pmatrix}P_{1n}\\\\\n",
    "P_{2n}\\\\\n",
    "\\vdots\\\\\n",
    "P_{3n}\n",
    "\\end{pmatrix}=\n",
    "$$\n",
    "$$\n",
    "=\\begin{pmatrix}P_{11}\\\\\n",
    "P_{21}\\\\\n",
    "\\vdots\\\\\n",
    "P_{N1}\n",
    "\\end{pmatrix}\\left[v\\right]_{\\mathcal{B},1}+\\begin{pmatrix}P_{12}\\\\\n",
    "P_{22}\\\\\n",
    "\\vdots\\\\\n",
    "P_{N2}\n",
    "\\end{pmatrix}\\left[v\\right]_{\\mathcal{B},2}+\\cdots+\\begin{pmatrix}P_{1N}\\\\\n",
    "P_{2N}\\\\\n",
    "\\vdots\\\\\n",
    "P_{NN}\n",
    "\\end{pmatrix}\\left[v\\right]_{\\mathcal{B},N}\n",
    "$$\n",
    "נשים לב שאת הביטוי הזה של קומבינציה לינארית של וקטורים ניתן לרשום כמכפלה של וקטור במטריצה\n",
    "$$\n",
    "=\\begin{pmatrix}P_{11} & P_{12} & \\cdots & P_{1N}\\\\\n",
    "P_{21} & P_{22} & \\cdots & P_{2N}\\\\\n",
    "\\vdots & \\vdots & \\ddots & \\vdots\\\\\n",
    "P_{N1} & P_{N2} & \\cdots & P_{NN}\n",
    "\\end{pmatrix}\\begin{pmatrix}\\left[v\\right]_{\\mathcal{B},1}\\\\\n",
    "\\left[v\\right]_{\\mathcal{B},2}\\\\\n",
    "\\vdots\\\\\n",
    "\\left[v\\right]_{\\mathcal{B},N}\n",
    "\\end{pmatrix}\n",
    "$$\n",
    "\n",
    "$$\n",
    "=\\begin{pmatrix}P_{11} & P_{12} & \\cdots & P_{1N}\\\\\n",
    "P_{21} & P_{22} & \\cdots & P_{2N}\\\\\n",
    "\\vdots & \\vdots & \\ddots & \\vdots\\\\\n",
    "P_{N1} & P_{N2} & \\cdots & P_{NN}\n",
    "\\end{pmatrix}\\left[v\\right]_{\\mathcal{B}}\n",
    "$$\n",
    "ומכאן אנחנו יכולים להגדיר את מטריצת המעבר מבסיס $\\mathcal{B}$ לבסיס $\\mathcal{C}$:\n",
    "$$\n",
    "\\left[P\\right]_{C}^{\\mathcal{B}}=\\begin{pmatrix}P_{11} & P_{12} & \\cdots & P_{1N}\\\\\n",
    "P_{21} & P_{22} & \\cdots & P_{2N}\\\\\n",
    "\\vdots & \\vdots & \\ddots & \\vdots\\\\\n",
    "P_{N1} & P_{N2} & \\cdots & P_{NN}\n",
    "\\end{pmatrix}=\\begin{pmatrix}| & | & | & |\\\\\n",
    "\\left[\\vec{b}_{1}\\right]_{\\mathcal{C}} & \\left[\\vec{b}_{2}\\right]_{\\mathcal{C}} & \\cdots & \\left[\\vec{b}_{N}\\right]_{\\mathcal{C}}\\\\\n",
    "| & | & | & |\n",
    "\\end{pmatrix}\n",
    "$$\n",
    "\n",
    "המסקנה הסופית היא שמטריצת מעבר הבסיס מבסיס  $\\mathcal{B}$ לבסיס $\\mathcal{C}$ מורכבת מהיצוג של וקטורי בסיס $\\mathcal{B}$ בבסיס $\\mathcal{C}$ "
   ]
  },
  {
   "cell_type": "code",
   "execution_count": null,
   "id": "d9366f65",
   "metadata": {},
   "outputs": [],
   "source": []
  }
 ],
 "metadata": {
  "kernelspec": {
   "display_name": "Python 3 (ipykernel)",
   "language": "python",
   "name": "python3"
  },
  "language_info": {
   "codemirror_mode": {
    "name": "ipython",
    "version": 3
   },
   "file_extension": ".py",
   "mimetype": "text/x-python",
   "name": "python",
   "nbconvert_exporter": "python",
   "pygments_lexer": "ipython3",
   "version": "3.9.7"
  }
 },
 "nbformat": 4,
 "nbformat_minor": 5
}
