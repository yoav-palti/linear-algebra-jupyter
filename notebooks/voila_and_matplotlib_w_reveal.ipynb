{
 "cells": [
  {
   "cell_type": "code",
   "execution_count": null,
   "metadata": {
    "slideshow": {
     "slide_type": "slide"
    }
   },
   "outputs": [],
   "source": [
    "%matplotlib widget\n",
    "import ipympl\n",
    "import matplotlib\n",
    "\n",
    "import numpy as np\n",
    "import matplotlib.pyplot as plt\n",
    "\n",
    "x = np.linspace(0, 2 * np.pi, 500)\n",
    "y1 = np.sin(x)\n",
    "y2 = np.sin(3 * x)\n",
    "\n",
    "fig, ax = plt.subplots()\n",
    "ax.fill(x, y1, 'b', x, y2, 'r', alpha=0.3)\n",
    "#plt.show()\n",
    "ax.figure"
   ]
  },
  {
   "cell_type": "markdown",
   "metadata": {},
   "source": [
    "Notebook made by starting with [this notebook](https://github.com/voila-dashboards/voila/blob/main/notebooks/reveal.ipynb) as the source of the meta tags and then I replaced the content of cells with the plots from [voila_and_matplotlib.ipynb](voila_and_matplotlib.ipynb) and added additional cells that I set `Slide Type` to `Slide`."
   ]
  },
  {
   "cell_type": "code",
   "execution_count": null,
   "metadata": {
    "slideshow": {
     "slide_type": "slide"
    }
   },
   "outputs": [],
   "source": [
    "%matplotlib widget\n",
    "import matplotlib.pyplot\n",
    "import matplotlib.pyplot as plt\n",
    "import numpy as np\n",
    "fig = matplotlib.pyplot.figure()\n",
    "a = matplotlib.pyplot.imshow(np.random.randn(100, 100))\n",
    "a.figure"
   ]
  },
  {
   "cell_type": "code",
   "execution_count": null,
   "metadata": {
    "slideshow": {
     "slide_type": "slide"
    }
   },
   "outputs": [],
   "source": [
    "%matplotlib widget\n",
    "import ipympl\n",
    "import matplotlib.pyplot as plt\n",
    "# NOTE THAT WITH `%matplotlib widget` it seems this WILL NOT SHOW in notebook but DOES SHOW IN VOILA\n",
    "# example from https://matplotlib.org/users/tight_layout_guide.html#tight-layout-guide\n",
    "def example_plot(ax, fontsize=12):\n",
    "     ax.plot([1, 2])\n",
    "     ax.locator_params(nbins=3)\n",
    "     ax.set_xlabel('x-label', fontsize=fontsize)\n",
    "     ax.set_ylabel('y-label', fontsize=fontsize)\n",
    "     ax.set_title('Title', fontsize=fontsize)\n",
    "\n",
    "plt.close('all')\n",
    "fig, ax = plt.subplots()\n",
    "example_plot(ax, fontsize=24)\n",
    "plt.tight_layout()\n",
    "ax.figure"
   ]
  },
  {
   "cell_type": "code",
   "execution_count": null,
   "metadata": {
    "slideshow": {
     "slide_type": "slide"
    }
   },
   "outputs": [],
   "source": [
    "%matplotlib widget\n",
    "import numpy as np\n",
    "import matplotlib.pyplot as plt\n",
    "\n",
    "plt.style.use('ggplot')\n",
    "\n",
    "fig, axes = plt.subplots(ncols=2, nrows=2)\n",
    "ax1, ax2, ax3, ax4 = axes.ravel()\n",
    "\n",
    "# scatter plot (Note: `plt.scatter` doesn't use default colors)\n",
    "x, y = np.random.normal(size=(2, 200))\n",
    "ax1.plot(x, y, 'o')\n",
    "\n",
    "# sinusoidal lines with colors from default color cycle\n",
    "L = 2*np.pi\n",
    "x = np.linspace(0, L)\n",
    "ncolors = len(plt.rcParams['axes.prop_cycle'])\n",
    "shift = np.linspace(0, L, ncolors, endpoint=False)\n",
    "for s in shift:\n",
    "    ax2.plot(x, np.sin(x + s), '-')\n",
    "ax2.margins(0)\n",
    "\n",
    "# bar graphs\n",
    "x = np.arange(5)\n",
    "y1, y2 = np.random.randint(1, 25, size=(2, 5))\n",
    "width = 0.25\n",
    "ax3.bar(x, y1, width)\n",
    "ax3.bar(x + width, y2, width,\n",
    "        color=list(plt.rcParams['axes.prop_cycle'])[2]['color'])\n",
    "ax3.set_xticks(x + width)\n",
    "ax3.set_xticklabels(['a', 'b', 'c', 'd', 'e'])\n",
    "\n",
    "# circles with colors from default color cycle\n",
    "for i, color in enumerate(plt.rcParams['axes.prop_cycle']):\n",
    "    xy = np.random.normal(size=2)\n",
    "    ax4.add_patch(plt.Circle(xy, radius=0.3, color=color['color']))\n",
    "ax4.axis('equal')\n",
    "ax4.margins(0)\n",
    "#plt.show()"
   ]
  },
  {
   "cell_type": "code",
   "execution_count": null,
   "metadata": {
    "slideshow": {
     "slide_type": "slide"
    }
   },
   "outputs": [],
   "source": [
    "import ipympl\n",
    "\n",
    "import numpy as np\n",
    "import matplotlib.pyplot as plt\n",
    "\n",
    "x = np.linspace(0, 2 * np.pi, 500)\n",
    "y1 = np.sin(x)\n",
    "y2 = np.sin(3 * x)\n",
    "\n",
    "fig, ax = plt.subplots()\n",
    "ax.fill(x, y1, 'b', x, y2, 'r', alpha=0.3);"
   ]
  },
  {
   "cell_type": "markdown",
   "metadata": {},
   "source": [
    "This one is similar to the first one but adds additional abilities that also work in Voila reveal slides. For example, put your mouse over a location on the plot and the x & y coordinates are shown."
   ]
  },
  {
   "cell_type": "code",
   "execution_count": null,
   "metadata": {},
   "outputs": [],
   "source": []
  }
 ],
 "metadata": {
  "celltoolbar": "Slideshow",
  "kernelspec": {
   "display_name": "Python 3 (ipykernel)",
   "language": "python",
   "name": "python3"
  },
  "language_info": {
   "codemirror_mode": {
    "name": "ipython",
    "version": 3
   },
   "file_extension": ".py",
   "mimetype": "text/x-python",
   "name": "python",
   "nbconvert_exporter": "python",
   "pygments_lexer": "ipython3",
   "version": "3.7.12"
  },
  "voila": {
   "template": "reveal"
  }
 },
 "nbformat": 4,
 "nbformat_minor": 2
}
