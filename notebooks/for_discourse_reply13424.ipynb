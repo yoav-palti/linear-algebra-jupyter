{
 "cells": [
  {
   "cell_type": "code",
   "execution_count": null,
   "id": "cf6001fc",
   "metadata": {},
   "outputs": [],
   "source": [
    "# from https://discourse.jupyter.org/t/problem-displaying-output-in-voila-page/13424?u=fomightez\n",
    "import ipywidgets as widgets\n",
    "from IPython.display import display,clear_output\n",
    "def sayHello(b):\n",
    "    global i\n",
    "    i+=1\n",
    "    with out:\n",
    "        clear_output(wait=True)\n",
    "        display('Hello world*' + str(i)+'!')\n",
    "i=0\n",
    "out = widgets.Output()\n",
    "display(out)\n",
    "\n",
    "run_button = widgets.Button(\n",
    "    description = 'run'\n",
    "    )\n",
    "run_button.on_click(sayHello)\n",
    "display(run_button)"
   ]
  }
 ],
 "metadata": {
  "kernelspec": {
   "display_name": "Python 3 (ipykernel)",
   "language": "python",
   "name": "python3"
  },
  "language_info": {
   "codemirror_mode": {
    "name": "ipython",
    "version": 3
   },
   "file_extension": ".py",
   "mimetype": "text/x-python",
   "name": "python",
   "nbconvert_exporter": "python",
   "pygments_lexer": "ipython3",
   "version": "3.7.12"
  }
 },
 "nbformat": 4,
 "nbformat_minor": 5
}
